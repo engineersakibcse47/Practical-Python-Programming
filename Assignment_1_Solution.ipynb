{
 "cells": [
  {
   "cell_type": "markdown",
   "id": "4ab44cb1",
   "metadata": {},
   "source": [
    "# Assignment 1"
   ]
  },
  {
   "cell_type": "markdown",
   "id": "ffb1f48f",
   "metadata": {},
   "source": [
    "## Task 1 (2 points)\n",
    "\n",
    "#### User Input\n",
    "\n",
    "Write a short program that asks the user for their **name and age**. Afterwards, print **how long their name is and when they were born**. Example of the expected below:"
   ]
  },
  {
   "cell_type": "code",
   "execution_count": 11,
   "id": "315076d3",
   "metadata": {},
   "outputs": [
    {
     "name": "stdout",
     "output_type": "stream",
     "text": [
      "What is your name? Teodor\n",
      "How old are you? 28\n",
      "Hello, Teodor! Your name has 6 letters and you were born in 1994.\n"
     ]
    }
   ],
   "source": [
    "name = input('What is your name? ') # returns a string\n",
    "age  = input('How old are you? ')   # also a string\n",
    "birth_year = 2022 - int(age)        # need to convert string to int first\n",
    "print(f'Hello, {name}! Your name has {len(name)} letters and you were born in {birth_year}.')"
   ]
  },
  {
   "cell_type": "markdown",
   "id": "498d0092",
   "metadata": {},
   "source": [
    "## Task 2 (2 points)\n",
    "\n",
    "#### Dictionaries and Sets\n",
    "\n",
    "Print the answers to the following questions **by manipulating the given dictionary of sets**. Example of the expected output below (don't worry about printing brackets for now):"
   ]
  },
  {
   "cell_type": "code",
   "execution_count": 18,
   "id": "fe3070e4",
   "metadata": {},
   "outputs": [
    {
     "name": "stdout",
     "output_type": "stream",
     "text": [
      "What languages can Paula code in?\n",
      "Paula can code in {'Python', 'Java'}.\n",
      "\n",
      "How many languages can Laura code in?\n",
      "Laura codes in 3 languages.\n",
      "\n",
      "What language do both Chris and Paula master?\n",
      "They both code in  {'Java'}\n"
     ]
    }
   ],
   "source": [
    "prog_skills = {'Chris': {'C#', 'Java'},\n",
    "               'Laura': {'Python', 'C++', 'JavaScript'},\n",
    "               'Paula': {'Java', 'Python'}}\n",
    "\n",
    "print('What languages can Paula code in?')\n",
    "print('Paula can code in ' + str(prog_skills['Paula']) + '.\\n')\n",
    "\n",
    "print('How many languages can Laura code in?')\n",
    "num_lang = len(prog_skills['Laura'])\n",
    "print(f'Laura codes in {num_lang} languages.\\n')\n",
    "\n",
    "print('What language do both Chris and Paula master?')\n",
    "common_lang = prog_skills['Chris'] & prog_skills['Paula']\n",
    "print('They both code in ', common_lang)"
   ]
  },
  {
   "cell_type": "markdown",
   "id": "851e99f6",
   "metadata": {},
   "source": [
    "## Task 3 (1 point)\n",
    "\n",
    "#### Fuzzy Arithmetic\n",
    "\n",
    "Consider all natural numbers up to (and including) 30.\n",
    "Print out for each number whether it is a **multiple of 3, of 5, of both or none**."
   ]
  },
  {
   "cell_type": "code",
   "execution_count": 2,
   "id": "07d41bed",
   "metadata": {},
   "outputs": [
    {
     "name": "stdout",
     "output_type": "stream",
     "text": [
      "1 is none\n",
      "2 is none\n",
      "3 is a multiple of 3\n",
      "4 is none\n",
      "5 is a multiple of 5\n",
      "6 is a multiple of 3\n",
      "7 is none\n",
      "8 is none\n",
      "9 is a multiple of 3\n",
      "10 is a multiple of 5\n",
      "11 is none\n",
      "12 is a multiple of 3\n",
      "13 is none\n",
      "14 is none\n",
      "15 is a multiple of 3 and 5\n",
      "16 is none\n",
      "17 is none\n",
      "18 is a multiple of 3\n",
      "19 is none\n",
      "20 is a multiple of 5\n",
      "21 is a multiple of 3\n",
      "22 is none\n",
      "23 is none\n",
      "24 is a multiple of 3\n",
      "25 is a multiple of 5\n",
      "26 is none\n",
      "27 is a multiple of 3\n",
      "28 is none\n",
      "29 is none\n",
      "30 is a multiple of 3 and 5\n"
     ]
    }
   ],
   "source": [
    "for i in range (1, 31):\n",
    "    if i % 15 == 0:\n",
    "        print(str(i) + \" is a multiple of 3 and 5\")\n",
    "    elif i % 3 == 0:\n",
    "        print(str(i) + \" is a multiple of 3\")\n",
    "    elif i % 5 == 0:\n",
    "        print(str(i) + \" is a multiple of 5\")\n",
    "    else:\n",
    "        print(str(i) + \" is none\")"
   ]
  },
  {
   "cell_type": "markdown",
   "id": "107a0a46",
   "metadata": {},
   "source": [
    "## Task 4 (4 points)\n",
    "\n",
    "#### Interval halving\n",
    "\n",
    "Write a program that asks the user to choose a number from 1 to 1000 \n",
    "and then tries to guess that number by halving the search interval.\n",
    "Concretely, the user is prompted after each wrong guess of the program \n",
    "to reveal if their choice is higher or lower than the previous guess \n",
    "and then halves again the next subinterval.\n",
    "\n",
    "Make sure the program stops when the maximum number of possible halving \n",
    "steps is reached (what is this number?). Also make sure you handle unallowed \n",
    "user inputs accordingly.\n",
    "\n",
    "Here is an example of how the program would react, if the user thought of **523**:\n",
    "\n",
    "```\n",
    "Think of a number from 1 to 1000\n",
    "Have you thought of 500? y/n: n\n",
    "Is it lower or higher than 500? l/h: h\n",
    "Have you thought of 750? y/n: n\n",
    "Is it lower or higher than 750? l/h: l\n",
    "Have you thought of 625? y/n: n\n",
    "Is it lower or higher than 625? l/h: l\n",
    "Have you thought of 562? y/n: n\n",
    "Is it lower or higher than 562? l/h: l\n",
    "Have you thought of 531? y/n: n\n",
    "Is it lower or higher than 531? l/h: l\n",
    "Have you thought of 515? y/n: n\n",
    "Is it lower or higher than 515? l/h: h\n",
    "Have you thought of 523? y/n: y\n",
    "Yeah, I guessed correctly in 7 steps!\n",
    "```"
   ]
  },
  {
   "cell_type": "code",
   "execution_count": null,
   "id": "7f6d622e",
   "metadata": {},
   "outputs": [],
   "source": [
    "from math import log2\n",
    "import time\n",
    "\n",
    "a, b = 1, 1000 # interval margins\n",
    "counter = 1    # counts the number of guesses\n",
    "maxSteps = int(log2(b-a)) + 1 # maximal number of guesses (in case the user presses a wrong key at the end, \n",
    "                              # the loop needs to exit somehow)\n",
    "print(\"Think of a number from 1 to 1000\")\n",
    "time.sleep(1)  # wait 1 second before proceeding\n",
    "\n",
    "while True:\n",
    "           \n",
    "    guess = (a + b) // 2 # current guess = midpoint of the current search interval\n",
    "    answer = input(\"Have you thought of \" + str(guess) + \"? y/n: \") \n",
    "    \n",
    "    if answer == \"y\":\n",
    "        print(\"Yeah, I guessed correctly in \" + str(counter) + \" steps!\")\n",
    "        break\n",
    "    elif answer == \"n\":\n",
    "               \n",
    "        if counter == maxSteps: # 10 guesses?\n",
    "            print(\"This can't be! You must have pressed a wrong key along the way. Please try again.\")\n",
    "            break   \n",
    "        position = input(\"Is it lower or higher than \" + str(guess) + \"? l/h: \")\n",
    "        if position == \"l\":\n",
    "            b = guess        \n",
    "            counter += 1\n",
    "        elif position == \"h\":\n",
    "            a = guess\n",
    "            counter += 1\n",
    "        else:\n",
    "            print(\"I don't understand the answer!\")\n",
    "    else:\n",
    "        print(\"I don't understand the answer!\")"
   ]
  },
  {
   "cell_type": "markdown",
   "id": "d877e791",
   "metadata": {},
   "source": [
    "## Task 5 (1 point)\n",
    "\n",
    "#### Sorted Lists\n",
    "\n",
    "Write a function ```isSorted``` that takes a list as an argument and checks whether the list is sorted in ascending order or not."
   ]
  },
  {
   "cell_type": "code",
   "execution_count": 3,
   "id": "1f34dfdb",
   "metadata": {},
   "outputs": [
    {
     "name": "stdout",
     "output_type": "stream",
     "text": [
      "True\n",
      "False\n",
      "True\n",
      "False\n"
     ]
    }
   ],
   "source": [
    "def isSorted(listToSort):\n",
    "    \n",
    "    for i in range(1, len(listToSort)):\n",
    "        if listToSort[i] < listToSort[i-1]:\n",
    "            return False\n",
    "\n",
    "    return True\n",
    "\n",
    "print(isSorted([-3, 0.5, 100]))\n",
    "print(isSorted([2, 3, 5, 4.5]))\n",
    "print(isSorted(['a', 'c', 'e']))\n",
    "print(isSorted(['a', 'e', 'c']))"
   ]
  },
  {
   "cell_type": "code",
   "execution_count": 14,
   "id": "4a875f1e",
   "metadata": {},
   "outputs": [
    {
     "ename": "TypeError",
     "evalue": "__init__() takes 1 positional argument but 2 were given",
     "output_type": "error",
     "traceback": [
      "\u001b[1;31m---------------------------------------------------------------------------\u001b[0m",
      "\u001b[1;31mTypeError\u001b[0m                                 Traceback (most recent call last)",
      "\u001b[1;32m~\\AppData\\Local\\Temp\\ipykernel_2612\\1859733964.py\u001b[0m in \u001b[0;36m<module>\u001b[1;34m\u001b[0m\n\u001b[0;32m      8\u001b[0m \u001b[1;33m\u001b[0m\u001b[0m\n\u001b[0;32m      9\u001b[0m \u001b[1;33m\u001b[0m\u001b[0m\n\u001b[1;32m---> 10\u001b[1;33m \u001b[0mb\u001b[0m \u001b[1;33m=\u001b[0m \u001b[0mB\u001b[0m\u001b[1;33m(\u001b[0m\u001b[1;34m'nice'\u001b[0m\u001b[1;33m)\u001b[0m\u001b[1;33m\u001b[0m\u001b[1;33m\u001b[0m\u001b[0m\n\u001b[0m",
      "\u001b[1;31mTypeError\u001b[0m: __init__() takes 1 positional argument but 2 were given"
     ]
    }
   ],
   "source": [
    "class A:\n",
    "    def __init__(self, a = 'hey'):\n",
    "        self.a = a\n",
    "\n",
    "class B(A):\n",
    "    def __init__(self):\n",
    "        super().__init__()\n",
    "\n",
    "\n",
    "b = B('nice')"
   ]
  },
  {
   "cell_type": "code",
   "execution_count": null,
   "id": "a946a79c",
   "metadata": {},
   "outputs": [],
   "source": []
  },
  {
   "cell_type": "code",
   "execution_count": null,
   "id": "42a54959",
   "metadata": {},
   "outputs": [],
   "source": []
  },
  {
   "cell_type": "code",
   "execution_count": null,
   "id": "376c13bf",
   "metadata": {},
   "outputs": [],
   "source": []
  },
  {
   "cell_type": "code",
   "execution_count": null,
   "id": "54cbc45a",
   "metadata": {},
   "outputs": [],
   "source": []
  },
  {
   "cell_type": "code",
   "execution_count": null,
   "id": "a5e225e2",
   "metadata": {},
   "outputs": [],
   "source": []
  },
  {
   "cell_type": "code",
   "execution_count": null,
   "id": "0c41afa0",
   "metadata": {},
   "outputs": [],
   "source": []
  }
 ],
 "metadata": {
  "kernelspec": {
   "display_name": "Python 3 (ipykernel)",
   "language": "python",
   "name": "python3"
  },
  "language_info": {
   "codemirror_mode": {
    "name": "ipython",
    "version": 3
   },
   "file_extension": ".py",
   "mimetype": "text/x-python",
   "name": "python",
   "nbconvert_exporter": "python",
   "pygments_lexer": "ipython3",
   "version": "3.7.6"
  }
 },
 "nbformat": 4,
 "nbformat_minor": 5
}
