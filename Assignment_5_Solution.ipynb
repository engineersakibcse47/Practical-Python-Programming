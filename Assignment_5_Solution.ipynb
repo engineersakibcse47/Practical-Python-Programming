{
 "cells": [
  {
   "cell_type": "markdown",
   "metadata": {},
   "source": [
    "# Assignment 5"
   ]
  },
  {
   "cell_type": "markdown",
   "metadata": {},
   "source": [
    "## Task 1 (1 point)\n",
    "\n",
    "**Normalizing Continuous Features**\n",
    "\n",
    "Consider data drawn from a 2 dimensional normal distribution. \n",
    "Normalize the data by first subtracting the mean from each dimension and then dividing the result by its respective standard deviation. "
   ]
  },
  {
   "cell_type": "code",
   "execution_count": 1,
   "metadata": {},
   "outputs": [
    {
     "data": {
      "image/png": "[encoded data removed]",
      "text/plain": [
       "<Figure size 432x288 with 1 Axes>"
      ]
     },
     "metadata": {
      "needs_background": "light"
     },
     "output_type": "display_data"
    }
   ],
   "source": [
    "# You don't need to modify this cell\n",
    "\n",
    "import matplotlib.pylab as plt\n",
    "import numpy as np\n",
    "from numpy.random import multivariate_normal as mvn\n",
    "%matplotlib inline\n",
    "\n",
    "# Generates some toy data\n",
    "mu = np.array([0,3])\n",
    "C = np.array([[5.,4.],[4.,5.]])\n",
    "X = mvn(mu,C,100)\n",
    "\n",
    "# Plot the data\n",
    "plt.plot(X[:,0], X[:,1], '.')\n",
    "plt.grid()\n",
    "lim = [-10, 10]\n",
    "plt.xlim(lim)\n",
    "plt.ylim(lim)\n",
    "plt.show()"
   ]
  },
  {
   "cell_type": "code",
   "execution_count": 2,
   "metadata": {},
   "outputs": [
    {
     "data": {
      "image/png": "[encoded data removed]",
      "text/plain": [
       "<Figure size 432x288 with 1 Axes>"
      ]
     },
     "metadata": {
      "needs_background": "light"
     },
     "output_type": "display_data"
    }
   ],
   "source": [
    "# Normalize data\n",
    "mu = X.mean(axis=0)\n",
    "stdev = X.std(axis=0)\n",
    "Xnormalized = (X - mu) / stdev\n",
    "\n",
    "plt.plot(Xnormalized[:,0], Xnormalized[:,1], '.')\n",
    "plt.grid()\n",
    "lim = [-10, 10]\n",
    "plt.xlim(lim)\n",
    "plt.ylim(lim)\n",
    "plt.show()"
   ]
  },
  {
   "cell_type": "markdown",
   "metadata": {},
   "source": [
    "## Task 2 (1 point)\n",
    "\n",
    "**One-Hot Encoding**\n",
    "\n",
    "Consider the data set ['blue', 'yellow', 'blue', 'green', 'red', 'yellow']\n",
    "\n",
    "Write a function ``one_hot_encoding`` that takes a list of strings like the above and returns an $m \\times n$ numpy array, where $m$ is the number of samples and $n$ the number of unique items. Each row corresponds to the one-hot-encoded version of the respective data point in the original list.\n",
    "\n",
    "*Note*: The output of your solution should be the same as the one from ``sklearn``'s ``OneHotEncoder`` (see below)."
   ]
  },
  {
   "cell_type": "code",
   "execution_count": 9,
   "metadata": {},
   "outputs": [
    {
     "data": {
      "text/plain": [
       "array([[1., 0., 0., 0.],\n",
       "       [0., 0., 0., 1.],\n",
       "       [1., 0., 0., 0.],\n",
       "       [0., 1., 0., 0.],\n",
       "       [0., 0., 1., 0.],\n",
       "       [0., 0., 0., 1.]])"
      ]
     },
     "execution_count": 9,
     "metadata": {},
     "output_type": "execute_result"
    }
   ],
   "source": [
    "data = ['blue', 'yellow', 'blue', 'green', 'red', 'yellow']\n",
    "\n",
    "def one_hot_encoding(string_list):\n",
    "    unique_items = np.unique(string_list)\n",
    "    return np.vstack([unique_items == s for s in string_list]) * 1.\n",
    "\n",
    "one_hot_encoded_data = one_hot_encoding(data)\n",
    "one_hot_encoded_data"
   ]
  },
  {
   "cell_type": "code",
   "execution_count": 8,
   "metadata": {},
   "outputs": [
    {
     "data": {
      "text/plain": [
       "array([[1., 0., 0., 0.],\n",
       "       [0., 0., 0., 1.],\n",
       "       [1., 0., 0., 0.],\n",
       "       [0., 1., 0., 0.],\n",
       "       [0., 0., 1., 0.],\n",
       "       [0., 0., 0., 1.]])"
      ]
     },
     "execution_count": 8,
     "metadata": {},
     "output_type": "execute_result"
    }
   ],
   "source": [
    "from sklearn.preprocessing import OneHotEncoder\n",
    "OneHotEncoder(sparse=False).fit_transform(np.vstack(data))"
   ]
  },
  {
   "cell_type": "markdown",
   "metadata": {},
   "source": [
    "## Task 3 (2 points)\n",
    "\n",
    "**Bag-of-Words Features**\n",
    "\n",
    "Consider the small data set *corpus*.\n",
    "\n",
    "Implement a function ``bag_of_words`` that takes a list of sentences as strings and transforms them into a (preferably sparse) numpy array of size number-of-data-points-by-number-of-words-in-the-corpus.\n",
    "\n",
    "Compare your result with the result from [sklearn.feature_extraction.text.CountVectorizer](https://scikit-learn.org/stable/modules/generated/sklearn.feature_extraction.text.CountVectorizer.html)"
   ]
  },
  {
   "cell_type": "code",
   "execution_count": 12,
   "metadata": {},
   "outputs": [],
   "source": [
    "corpus = [\n",
    "     'This is the first document.',\n",
    "     'This document is the second document.',\n",
    "     'And this is the third one.',\n",
    "     'Is this the first document?']"
   ]
  },
  {
   "cell_type": "code",
   "execution_count": 16,
   "metadata": {},
   "outputs": [
    {
     "name": "stdout",
     "output_type": "stream",
     "text": [
      "['second', 'this', 'third', 'document', 'and', 'is', 'one', 'first', 'the']\n"
     ]
    },
    {
     "data": {
      "text/plain": [
       "array([[0, 1, 0, 1, 0, 1, 0, 1, 1],\n",
       "       [1, 1, 0, 2, 0, 1, 0, 0, 1],\n",
       "       [0, 1, 1, 0, 1, 1, 1, 0, 1],\n",
       "       [0, 1, 0, 1, 0, 1, 0, 1, 1]])"
      ]
     },
     "execution_count": 16,
     "metadata": {},
     "output_type": "execute_result"
    }
   ],
   "source": [
    "def bag_of_words(corpus):\n",
    "    \n",
    "    def preprocess(s):\n",
    "        return s.lower()\\\n",
    "                 .replace('?','')\\\n",
    "                 .replace('.','')\\\n",
    "                 .split(\" \")\n",
    "    \n",
    "    vocab = list(set(preprocess(\" \".join(corpus))))\n",
    "    print(vocab)\n",
    "    \n",
    "    all_bow = []\n",
    "    for s in corpus:\n",
    "        tmp_words = preprocess(s)\n",
    "        this_bow = []\n",
    "        for w in vocab:\n",
    "            this_bow.append(sum([1 for iw in tmp_words if iw == w]))\n",
    "        all_bow.append(this_bow)\n",
    "    return np.array(all_bow)\n",
    "        \n",
    "bag_of_words(corpus)"
   ]
  },
  {
   "cell_type": "code",
   "execution_count": 19,
   "metadata": {},
   "outputs": [
    {
     "data": {
      "text/plain": [
       "array([[0, 1, 1, 1, 0, 0, 1, 0, 1],\n",
       "       [0, 2, 0, 1, 0, 1, 1, 0, 1],\n",
       "       [1, 0, 0, 1, 1, 0, 1, 1, 1],\n",
       "       [0, 1, 1, 1, 0, 0, 1, 0, 1]], dtype=int64)"
      ]
     },
     "execution_count": 19,
     "metadata": {},
     "output_type": "execute_result"
    }
   ],
   "source": [
    "from sklearn.feature_extraction.text import CountVectorizer\n",
    "vect = CountVectorizer().fit(corpus)\n",
    "\n",
    "word_freqs = vect.transform(corpus).toarray()\n",
    "word_freqs"
   ]
  },
  {
   "cell_type": "markdown",
   "metadata": {},
   "source": [
    "## Task 4 (1 point)\n",
    "\n",
    "**Extracting Key Points from Video Frames**\n",
    "\n",
    "We learnt about **HOG** as classical feature extractors in the lecture. HOG is used in **SIFT descriptors** (**S**cale **I**nvariant **F**eature **T**ransform), which detect so-called **Key Points**. These are useful i.e. for matching corresponding points between an original image and a geometrically or morphologically transformed version of it.\n",
    "\n",
    "Short introduction here: https://docs.opencv.org/4.x/da/df5/tutorial_py_sift_intro.html\n",
    "\n",
    "Your task is to complete the missing lines from the code below, which will activate your webcam and extract Key Points on the live stream. You will need the *OpenCV* library for Python, which you can install via ``pip`` on the next line or using ``conda`` on your machine. There is already an example in the link above."
   ]
  },
  {
   "cell_type": "code",
   "execution_count": null,
   "metadata": {},
   "outputs": [],
   "source": [
    "#!pip install opencv-python"
   ]
  },
  {
   "cell_type": "code",
   "execution_count": 2,
   "metadata": {},
   "outputs": [],
   "source": [
    "import cv2\n",
    "\n",
    "cap = cv2.VideoCapture(0)\n",
    "cv2.namedWindow('SIFT feature visualization')\n",
    "\n",
    "while True:\n",
    "    \n",
    "    # Capture frame-by-frame\n",
    "    _, frame = cap.read()\n",
    "    \n",
    "    # Convert image to gray scale\n",
    "    frame = cv2.cvtColor(frame,cv2.COLOR_BGR2GRAY)\n",
    "    \n",
    "    # Localize keypoints\n",
    "    sift = cv2.SIFT_create()\n",
    "    kp = sift.detect(frame, None)     \n",
    "    frame = cv2.drawKeypoints(frame, kp, frame, flags=cv2.DRAW_MATCHES_FLAGS_DRAW_RICH_KEYPOINTS)\n",
    "    \n",
    "    # Close when pressing 'q'\n",
    "    if cv2.waitKey(100) & 0xFF == ord('q'):\n",
    "        break\n",
    "    \n",
    "    # Display image\n",
    "    cv2.imshow('frame_SIFT', frame)\n",
    "    \n",
    "# When everything is done, release the capture\n",
    "cap.release()\n",
    "cv2.destroyAllWindows()"
   ]
  },
  {
   "cell_type": "markdown",
   "metadata": {},
   "source": [
    "## Task 5 (1 point)\n",
    "\n",
    "#### Precision and Recall\n",
    "\n",
    "Implement two functions that compute the precision and recall of binary predictions.\n",
    "\n",
    "The functions should expect the true and predicted binary categories as numpy vectors, meaning numpy arrays with only one axis as e.g. ``np.array([1, 0, 0, 1])`` where 1 stands for positive prediction and 0 for negative prediction. Make sure that always a number is returned and not a NaN (when the denominator is 0)."
   ]
  },
  {
   "cell_type": "code",
   "execution_count": 1,
   "metadata": {},
   "outputs": [],
   "source": [
    "def precision(y_true, y_predicted):\n",
    "    \n",
    "    tp = sum(y_true & y_predicted)\n",
    "    fp = sum(y_predicted & ~y_true)\n",
    "    if (tp + fp) > 0:\n",
    "        return  tp / (tp + fp)\n",
    "    else:\n",
    "        return 0.\n",
    "    \n",
    "def recall(y_true, y_predicted):\n",
    "    \n",
    "    tp = sum(y_true & y_predicted)\n",
    "    fn = sum(~y_predicted & y_true)\n",
    "    if (tp + fn) > 0:\n",
    "        return  tp / (tp + fn)\n",
    "    else:\n",
    "        return 0."
   ]
  },
  {
   "cell_type": "code",
   "execution_count": 3,
   "metadata": {},
   "outputs": [
    {
     "name": "stdout",
     "output_type": "stream",
     "text": [
      "0.5\n",
      "0.3333333333333333\n"
     ]
    }
   ],
   "source": [
    "# Test\n",
    "y_true = np.array([1,0,1,1])\n",
    "y_predicted = np.array([1,1,0,0])\n",
    "\n",
    "print(precision(y_true, y_predicted))\n",
    "print(recall(y_true, y_predicted))"
   ]
  },
  {
   "cell_type": "markdown",
   "metadata": {},
   "source": [
    "## Task 6 (4 points)\n",
    "\n",
    "#### Predicting Ruling Party\n",
    "\n",
    "In the 17th Bundestag elected in 2009, the ruling parties were CDU/CSU and FDP, in the 18th Bundestag elected in 2013 the ruling parties were CDU/CSU and SPD. Download the [parliament speeches](https://www.dropbox.com/s/1nlbfehnrwwa2zj/bundestags_parlamentsprotokolle.csv.gzip?dl=1) and compute a new target variable 'government' that is true if the respective party was in the ruling coalition at the time. \n",
    "\n",
    "First, write a function that loads the dataset into a pandas Dataframe and extends it with a column for 'government'. This column should be filled with booleans marking whether the party was governing or not.\n",
    "\n",
    "Second, write a function ``train_bundestag`` that preprocesses the data and trains a text classification pipeline that predicts whether a speech was made by the governing party. Train the pipeline on the speeches of the 17th Bundestag and test them on (heldout) data from the 17th Bundestag as well as on data from the 18th Bundestag. \n",
    "\n",
    "Fine-tune at least two hyperparameters using some sort of cross validation (2 folds should be enough; the more you set, the longer you wait)!\n",
    "\n",
    "**Note**: Your scores at the end may differ from the ones in the example, depending on what settings you used for your training."
   ]
  },
  {
   "cell_type": "code",
   "execution_count": null,
   "metadata": {},
   "outputs": [],
   "source": [
    "import os, gzip\n",
    "import pandas as pd\n",
    "import numpy as np\n",
    "from sklearn.feature_extraction.text import TfidfVectorizer\n",
    "from sklearn.model_selection import train_test_split, GridSearchCV\n",
    "from sklearn.linear_model import SGDClassifier\n",
    "from sklearn.pipeline import Pipeline\n",
    "import urllib.request\n",
    "from sklearn.metrics import classification_report\n",
    "\n",
    "DATADIR = \"data\"\n",
    "\n",
    "def load_data():\n",
    "    if not os.path.exists(DATADIR): \n",
    "        os.mkdir(DATADIR)\n",
    "\n",
    "    file_name = os.path.join(DATADIR, 'bundestags_parlamentsprotokolle.csv.gzip')\n",
    "    if not os.path.exists(file_name):\n",
    "        url_data = 'https://www.dropbox.com/s/1nlbfehnrwwa2zj/bundestags_parlamentsprotokolle.csv.gzip?dl=1'\n",
    "        urllib.request.urlretrieve(url_data, file_name)\n",
    "\n",
    "    df = pd.read_csv(gzip.open(file_name), index_col=0).sample(frac=1)\n",
    "    df.loc[df.wahlperiode==17,'government'] = df[df.wahlperiode==17].partei.isin(['cducsu','fdp']).astype(str)\n",
    "    df.loc[df.wahlperiode==18,'government'] = df[df.wahlperiode==18].partei.isin(['cducsu','spd']).astype(str)\n",
    "    \n",
    "    return df\n",
    "\n",
    "\n",
    "def train_bundestag():\n",
    "    \n",
    "    # Load data as Dataframe\n",
    "    df = load_data()\n",
    "\n",
    "    # Initialize Pipeline for extracting features with sklearn's TfidfVectorizer\n",
    "    # As a classifier, you may use sklearn's SGDClassifier (use the logistic regression as loss)\n",
    "    text_clf = Pipeline([('vect', TfidfVectorizer()),\n",
    "                         ('clf', SGDClassifier(loss='log_loss'))])\n",
    "\n",
    "    # Define at least one hyperparameter for the ngram\n",
    "    # Additionally, also add regularization\n",
    "    parameters = {\n",
    "        'vect__ngram_range': [(1, 1)],\n",
    "        'clf__alpha': (np.logspace(-5, -1, 5)).tolist()\n",
    "    }\n",
    "    \n",
    "    # Perform Gridsearch to get the best HPs (2 folds are enough)\n",
    "    # Use verbose=1 to get the current state printed to the console\n",
    "    clf = GridSearchCV(text_clf, parameters, cv=2, n_jobs=1, verbose=1)\n",
    "\n",
    "    # Split dataset (only for the 17th Budestag) into train and test set\n",
    "    X_train, X_test, y_train, y_test = train_test_split(df.loc[df.wahlperiode==17,'text'], \n",
    "                                                        df.loc[df.wahlperiode==17,'government'])\n",
    "    \n",
    "    # Train\n",
    "    clf.fit(X_train, y_train)\n",
    "\n",
    "    # Test on the test set from the 17th Bundestag\n",
    "    print(\"*\"*80 + \"\\nEvaluation on 17th Bundestag held-out data\")\n",
    "    print(classification_report(y_test, clf.predict(X_test)))\n",
    "\n",
    "    # Test on the whole dataset for the 18th Bundestag\n",
    "    predictions = clf.predict(df.loc[df.wahlperiode==18,'text'])\n",
    "    print(\"*\"*80 + \"\\nEvaluation on 18th Bundestag held-out data\")\n",
    "    print(classification_report(df.loc[df.wahlperiode==18,'government'], predictions))\n",
    "\n",
    "train_bundestag()"
   ]
  }
 ],
 "metadata": {
  "kernelspec": {
   "display_name": "Python 3 (ipykernel)",
   "language": "python",
   "name": "python3"
  },
  "language_info": {
   "codemirror_mode": {
    "name": "ipython",
    "version": 3
   },
   "file_extension": ".py",
   "mimetype": "text/x-python",
   "name": "python",
   "nbconvert_exporter": "python",
   "pygments_lexer": "ipython3",
   "version": "3.7.6"
  }
 },
 "nbformat": 4,
 "nbformat_minor": 2
}
